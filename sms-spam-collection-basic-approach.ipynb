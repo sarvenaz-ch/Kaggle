{
 "cells": [
  {
   "cell_type": "markdown",
   "id": "6950ead3",
   "metadata": {
    "papermill": {
     "duration": 0.016506,
     "end_time": "2024-08-16T18:00:54.834688",
     "exception": false,
     "start_time": "2024-08-16T18:00:54.818182",
     "status": "completed"
    },
    "tags": []
   },
   "source": [
    "# Load"
   ]
  },
  {
   "cell_type": "code",
   "execution_count": 1,
   "id": "60a86233",
   "metadata": {
    "_cell_guid": "b1076dfc-b9ad-4769-8c92-a6c4dae69d19",
    "_uuid": "8f2839f25d086af736a60e9eeb907d3b93b6e0e5",
    "execution": {
     "iopub.execute_input": "2024-08-16T18:00:54.867587Z",
     "iopub.status.busy": "2024-08-16T18:00:54.867113Z",
     "iopub.status.idle": "2024-08-16T18:00:55.959044Z",
     "shell.execute_reply": "2024-08-16T18:00:55.957118Z"
    },
    "papermill": {
     "duration": 1.114006,
     "end_time": "2024-08-16T18:00:55.963958",
     "exception": false,
     "start_time": "2024-08-16T18:00:54.849952",
     "status": "completed"
    },
    "tags": []
   },
   "outputs": [
    {
     "name": "stdout",
     "output_type": "stream",
     "text": [
      "/kaggle/input/sms-spam-collection-dataset/spam.csv\n"
     ]
    }
   ],
   "source": [
    "# This Python 3 environment comes with many helpful analytics libraries installed\n",
    "# It is defined by the kaggle/python Docker image: https://github.com/kaggle/docker-python\n",
    "# For example, here's several helpful packages to load\n",
    "\n",
    "import numpy as np # linear algebra\n",
    "import pandas as pd # data processing, CSV file I/O (e.g. pd.read_csv)\n",
    "\n",
    "# Input data files are available in the read-only \"../input/\" directory\n",
    "# For example, running this (by clicking run or pressing Shift+Enter) will list all files under the input directory\n",
    "\n",
    "import os\n",
    "for dirname, _, filenames in os.walk('/kaggle/input'):\n",
    "    for filename in filenames:\n",
    "        print(os.path.join(dirname, filename))\n",
    "\n",
    "# You can write up to 20GB to the current directory (/kaggle/working/) that gets preserved as output when you create a version using \"Save & Run All\" \n",
    "# You can also write temporary files to /kaggle/temp/, but they won't be saved outside of the current session"
   ]
  },
  {
   "cell_type": "code",
   "execution_count": 2,
   "id": "7c573322",
   "metadata": {
    "execution": {
     "iopub.execute_input": "2024-08-16T18:00:55.998460Z",
     "iopub.status.busy": "2024-08-16T18:00:55.997344Z",
     "iopub.status.idle": "2024-08-16T18:00:58.982066Z",
     "shell.execute_reply": "2024-08-16T18:00:58.980635Z"
    },
    "papermill": {
     "duration": 3.0051,
     "end_time": "2024-08-16T18:00:58.985306",
     "exception": false,
     "start_time": "2024-08-16T18:00:55.980206",
     "status": "completed"
    },
    "tags": []
   },
   "outputs": [],
   "source": [
    "import seaborn as sns\n",
    "from sklearn.metrics import classification_report, confusion_matrix\n",
    "from nltk.corpus import stopwords"
   ]
  },
  {
   "cell_type": "code",
   "execution_count": 3,
   "id": "9fd5aa85",
   "metadata": {
    "execution": {
     "iopub.execute_input": "2024-08-16T18:00:59.018241Z",
     "iopub.status.busy": "2024-08-16T18:00:59.017841Z",
     "iopub.status.idle": "2024-08-16T18:00:59.090914Z",
     "shell.execute_reply": "2024-08-16T18:00:59.089489Z"
    },
    "papermill": {
     "duration": 0.093856,
     "end_time": "2024-08-16T18:00:59.094603",
     "exception": false,
     "start_time": "2024-08-16T18:00:59.000747",
     "status": "completed"
    },
    "tags": []
   },
   "outputs": [
    {
     "data": {
      "text/html": [
       "<div>\n",
       "<style scoped>\n",
       "    .dataframe tbody tr th:only-of-type {\n",
       "        vertical-align: middle;\n",
       "    }\n",
       "\n",
       "    .dataframe tbody tr th {\n",
       "        vertical-align: top;\n",
       "    }\n",
       "\n",
       "    .dataframe thead th {\n",
       "        text-align: right;\n",
       "    }\n",
       "</style>\n",
       "<table border=\"1\" class=\"dataframe\">\n",
       "  <thead>\n",
       "    <tr style=\"text-align: right;\">\n",
       "      <th></th>\n",
       "      <th>v1</th>\n",
       "      <th>v2</th>\n",
       "    </tr>\n",
       "  </thead>\n",
       "  <tbody>\n",
       "    <tr>\n",
       "      <th>0</th>\n",
       "      <td>ham</td>\n",
       "      <td>Go until jurong point, crazy.. Available only ...</td>\n",
       "    </tr>\n",
       "    <tr>\n",
       "      <th>1</th>\n",
       "      <td>ham</td>\n",
       "      <td>Ok lar... Joking wif u oni...</td>\n",
       "    </tr>\n",
       "    <tr>\n",
       "      <th>2</th>\n",
       "      <td>spam</td>\n",
       "      <td>Free entry in 2 a wkly comp to win FA Cup fina...</td>\n",
       "    </tr>\n",
       "    <tr>\n",
       "      <th>3</th>\n",
       "      <td>ham</td>\n",
       "      <td>U dun say so early hor... U c already then say...</td>\n",
       "    </tr>\n",
       "    <tr>\n",
       "      <th>4</th>\n",
       "      <td>ham</td>\n",
       "      <td>Nah I don't think he goes to usf, he lives aro...</td>\n",
       "    </tr>\n",
       "  </tbody>\n",
       "</table>\n",
       "</div>"
      ],
      "text/plain": [
       "     v1                                                 v2\n",
       "0   ham  Go until jurong point, crazy.. Available only ...\n",
       "1   ham                      Ok lar... Joking wif u oni...\n",
       "2  spam  Free entry in 2 a wkly comp to win FA Cup fina...\n",
       "3   ham  U dun say so early hor... U c already then say...\n",
       "4   ham  Nah I don't think he goes to usf, he lives aro..."
      ]
     },
     "execution_count": 3,
     "metadata": {},
     "output_type": "execute_result"
    }
   ],
   "source": [
    "# import chardet\n",
    "import codecs\n",
    "with codecs.open('/kaggle/input/sms-spam-collection-dataset/spam.csv', 'r', encoding='ISO-8859-1') as f:\n",
    "    df_raw = pd.read_csv(f)[['v1', 'v2']]\n",
    "    \n",
    "# df_raw = pd.read_csv('/kaggle/input/sms-spam-collection-dataset/spam.csv', encoding = result['encoding'])\n",
    "df_raw.head()"
   ]
  },
  {
   "cell_type": "markdown",
   "id": "750f32b1",
   "metadata": {
    "papermill": {
     "duration": 0.019725,
     "end_time": "2024-08-16T18:00:59.135228",
     "exception": false,
     "start_time": "2024-08-16T18:00:59.115503",
     "status": "completed"
    },
    "tags": []
   },
   "source": [
    "# Data Processing"
   ]
  },
  {
   "cell_type": "markdown",
   "id": "6037de26",
   "metadata": {
    "papermill": {
     "duration": 0.022909,
     "end_time": "2024-08-16T18:00:59.177854",
     "exception": false,
     "start_time": "2024-08-16T18:00:59.154945",
     "status": "completed"
    },
    "tags": []
   },
   "source": [
    "## Preprocessing"
   ]
  },
  {
   "cell_type": "code",
   "execution_count": 4,
   "id": "88ebd119",
   "metadata": {
    "execution": {
     "iopub.execute_input": "2024-08-16T18:00:59.210051Z",
     "iopub.status.busy": "2024-08-16T18:00:59.209542Z",
     "iopub.status.idle": "2024-08-16T18:00:59.224455Z",
     "shell.execute_reply": "2024-08-16T18:00:59.223085Z"
    },
    "papermill": {
     "duration": 0.034784,
     "end_time": "2024-08-16T18:00:59.227949",
     "exception": false,
     "start_time": "2024-08-16T18:00:59.193165",
     "status": "completed"
    },
    "tags": []
   },
   "outputs": [
    {
     "data": {
      "text/html": [
       "<div>\n",
       "<style scoped>\n",
       "    .dataframe tbody tr th:only-of-type {\n",
       "        vertical-align: middle;\n",
       "    }\n",
       "\n",
       "    .dataframe tbody tr th {\n",
       "        vertical-align: top;\n",
       "    }\n",
       "\n",
       "    .dataframe thead th {\n",
       "        text-align: right;\n",
       "    }\n",
       "</style>\n",
       "<table border=\"1\" class=\"dataframe\">\n",
       "  <thead>\n",
       "    <tr style=\"text-align: right;\">\n",
       "      <th></th>\n",
       "      <th>label</th>\n",
       "      <th>txt</th>\n",
       "    </tr>\n",
       "  </thead>\n",
       "  <tbody>\n",
       "    <tr>\n",
       "      <th>0</th>\n",
       "      <td>ham</td>\n",
       "      <td>Go until jurong point, crazy.. Available only ...</td>\n",
       "    </tr>\n",
       "    <tr>\n",
       "      <th>1</th>\n",
       "      <td>ham</td>\n",
       "      <td>Ok lar... Joking wif u oni...</td>\n",
       "    </tr>\n",
       "    <tr>\n",
       "      <th>2</th>\n",
       "      <td>spam</td>\n",
       "      <td>Free entry in 2 a wkly comp to win FA Cup fina...</td>\n",
       "    </tr>\n",
       "    <tr>\n",
       "      <th>3</th>\n",
       "      <td>ham</td>\n",
       "      <td>U dun say so early hor... U c already then say...</td>\n",
       "    </tr>\n",
       "    <tr>\n",
       "      <th>4</th>\n",
       "      <td>ham</td>\n",
       "      <td>Nah I don't think he goes to usf, he lives aro...</td>\n",
       "    </tr>\n",
       "  </tbody>\n",
       "</table>\n",
       "</div>"
      ],
      "text/plain": [
       "  label                                                txt\n",
       "0   ham  Go until jurong point, crazy.. Available only ...\n",
       "1   ham                      Ok lar... Joking wif u oni...\n",
       "2  spam  Free entry in 2 a wkly comp to win FA Cup fina...\n",
       "3   ham  U dun say so early hor... U c already then say...\n",
       "4   ham  Nah I don't think he goes to usf, he lives aro..."
      ]
     },
     "execution_count": 4,
     "metadata": {},
     "output_type": "execute_result"
    }
   ],
   "source": [
    "rename_mapper = {'v1':'label',\n",
    "                'v2':'txt'}\n",
    "df_raw = df_raw.rename(columns = rename_mapper)\n",
    "df_raw.head()"
   ]
  },
  {
   "cell_type": "code",
   "execution_count": 5,
   "id": "a4d4acc5",
   "metadata": {
    "execution": {
     "iopub.execute_input": "2024-08-16T18:00:59.265292Z",
     "iopub.status.busy": "2024-08-16T18:00:59.264348Z",
     "iopub.status.idle": "2024-08-16T18:00:59.301212Z",
     "shell.execute_reply": "2024-08-16T18:00:59.299897Z"
    },
    "papermill": {
     "duration": 0.060181,
     "end_time": "2024-08-16T18:00:59.304045",
     "exception": false,
     "start_time": "2024-08-16T18:00:59.243864",
     "status": "completed"
    },
    "tags": []
   },
   "outputs": [
    {
     "data": {
      "text/html": [
       "<div>\n",
       "<style scoped>\n",
       "    .dataframe tbody tr th:only-of-type {\n",
       "        vertical-align: middle;\n",
       "    }\n",
       "\n",
       "    .dataframe tbody tr th {\n",
       "        vertical-align: top;\n",
       "    }\n",
       "\n",
       "    .dataframe thead th {\n",
       "        text-align: right;\n",
       "    }\n",
       "</style>\n",
       "<table border=\"1\" class=\"dataframe\">\n",
       "  <thead>\n",
       "    <tr style=\"text-align: right;\">\n",
       "      <th></th>\n",
       "      <th>label</th>\n",
       "      <th>txt</th>\n",
       "    </tr>\n",
       "  </thead>\n",
       "  <tbody>\n",
       "    <tr>\n",
       "      <th>count</th>\n",
       "      <td>5572</td>\n",
       "      <td>5572</td>\n",
       "    </tr>\n",
       "    <tr>\n",
       "      <th>unique</th>\n",
       "      <td>2</td>\n",
       "      <td>5169</td>\n",
       "    </tr>\n",
       "    <tr>\n",
       "      <th>top</th>\n",
       "      <td>ham</td>\n",
       "      <td>Sorry, I'll call later</td>\n",
       "    </tr>\n",
       "    <tr>\n",
       "      <th>freq</th>\n",
       "      <td>4825</td>\n",
       "      <td>30</td>\n",
       "    </tr>\n",
       "  </tbody>\n",
       "</table>\n",
       "</div>"
      ],
      "text/plain": [
       "       label                     txt\n",
       "count   5572                    5572\n",
       "unique     2                    5169\n",
       "top      ham  Sorry, I'll call later\n",
       "freq    4825                      30"
      ]
     },
     "execution_count": 5,
     "metadata": {},
     "output_type": "execute_result"
    }
   ],
   "source": [
    "df_raw.describe()"
   ]
  },
  {
   "cell_type": "code",
   "execution_count": 6,
   "id": "710012be",
   "metadata": {
    "execution": {
     "iopub.execute_input": "2024-08-16T18:00:59.348360Z",
     "iopub.status.busy": "2024-08-16T18:00:59.346717Z",
     "iopub.status.idle": "2024-08-16T18:00:59.416377Z",
     "shell.execute_reply": "2024-08-16T18:00:59.414677Z"
    },
    "papermill": {
     "duration": 0.097041,
     "end_time": "2024-08-16T18:00:59.420327",
     "exception": false,
     "start_time": "2024-08-16T18:00:59.323286",
     "status": "completed"
    },
    "tags": []
   },
   "outputs": [
    {
     "data": {
      "text/html": [
       "<div>\n",
       "<style scoped>\n",
       "    .dataframe tbody tr th:only-of-type {\n",
       "        vertical-align: middle;\n",
       "    }\n",
       "\n",
       "    .dataframe tbody tr th {\n",
       "        vertical-align: top;\n",
       "    }\n",
       "\n",
       "    .dataframe thead tr th {\n",
       "        text-align: left;\n",
       "    }\n",
       "\n",
       "    .dataframe thead tr:last-of-type th {\n",
       "        text-align: right;\n",
       "    }\n",
       "</style>\n",
       "<table border=\"1\" class=\"dataframe\">\n",
       "  <thead>\n",
       "    <tr>\n",
       "      <th></th>\n",
       "      <th colspan=\"4\" halign=\"left\">txt</th>\n",
       "    </tr>\n",
       "    <tr>\n",
       "      <th></th>\n",
       "      <th>count</th>\n",
       "      <th>unique</th>\n",
       "      <th>top</th>\n",
       "      <th>freq</th>\n",
       "    </tr>\n",
       "    <tr>\n",
       "      <th>label</th>\n",
       "      <th></th>\n",
       "      <th></th>\n",
       "      <th></th>\n",
       "      <th></th>\n",
       "    </tr>\n",
       "  </thead>\n",
       "  <tbody>\n",
       "    <tr>\n",
       "      <th>ham</th>\n",
       "      <td>4825</td>\n",
       "      <td>4516</td>\n",
       "      <td>Sorry, I'll call later</td>\n",
       "      <td>30</td>\n",
       "    </tr>\n",
       "    <tr>\n",
       "      <th>spam</th>\n",
       "      <td>747</td>\n",
       "      <td>653</td>\n",
       "      <td>Please call our customer service representativ...</td>\n",
       "      <td>4</td>\n",
       "    </tr>\n",
       "  </tbody>\n",
       "</table>\n",
       "</div>"
      ],
      "text/plain": [
       "        txt                                                               \n",
       "      count unique                                                top freq\n",
       "label                                                                     \n",
       "ham    4825   4516                             Sorry, I'll call later   30\n",
       "spam    747    653  Please call our customer service representativ...    4"
      ]
     },
     "execution_count": 6,
     "metadata": {},
     "output_type": "execute_result"
    }
   ],
   "source": [
    "df_raw.groupby(by = 'label').describe()"
   ]
  },
  {
   "cell_type": "code",
   "execution_count": 7,
   "id": "6f01f9f2",
   "metadata": {
    "execution": {
     "iopub.execute_input": "2024-08-16T18:00:59.469650Z",
     "iopub.status.busy": "2024-08-16T18:00:59.468202Z",
     "iopub.status.idle": "2024-08-16T18:00:59.483803Z",
     "shell.execute_reply": "2024-08-16T18:00:59.482023Z"
    },
    "papermill": {
     "duration": 0.041814,
     "end_time": "2024-08-16T18:00:59.487658",
     "exception": false,
     "start_time": "2024-08-16T18:00:59.445844",
     "status": "completed"
    },
    "tags": []
   },
   "outputs": [
    {
     "name": "stdout",
     "output_type": "stream",
     "text": [
      "hello this is sarvenaz how is it go get realli hot hotti\n"
     ]
    }
   ],
   "source": [
    "from nltk.stem import SnowballStemmer\n",
    "from nltk.stem import WordNetLemmatizer\n",
    "\n",
    "\n",
    "def remove_punctuations(txt):\n",
    "    import string\n",
    "    return ''.join(w for w in txt if w not in string.punctuation)\n",
    "\n",
    "\n",
    "def remove_shortwords(txt):\n",
    "    return ' '.join(w for w in txt.split() if len(w)>=2)\n",
    "\n",
    "\n",
    "def remove_stopwords(txt):\n",
    "    txt =  ' '.join(w for w in txt.split() if w not in stopwords.words('english'))\n",
    "    txt = ' '.join(w for w in txt.split() if w not in stopwords.words('spanish'))\n",
    "    txt = ' '.join(w for w in txt.split() if w not in stopwords.words('french'))\n",
    "    return txt\n",
    "\n",
    "\n",
    "def stemmer(txt):\n",
    "    stemmer = SnowballStemmer(\"english\")\n",
    "    return ' '.join(stemmer.stem(w) for w in txt.split())\n",
    "\n",
    "\n",
    "def lemmatization(txt):\n",
    "    lemmatizer = WordNetLemmatizer()\n",
    "    return ' '.join(lemmatizer.lemmatize(w) for w in txt.split())\n",
    "    \n",
    "print(stemmer(remove_punctuations('Hello! This is Sarvenaz ... How is it going?, getting really hot hotty ')))"
   ]
  },
  {
   "cell_type": "code",
   "execution_count": 8,
   "id": "ccba0696",
   "metadata": {
    "execution": {
     "iopub.execute_input": "2024-08-16T18:00:59.527014Z",
     "iopub.status.busy": "2024-08-16T18:00:59.526016Z",
     "iopub.status.idle": "2024-08-16T18:00:59.550227Z",
     "shell.execute_reply": "2024-08-16T18:00:59.547821Z"
    },
    "papermill": {
     "duration": 0.049135,
     "end_time": "2024-08-16T18:00:59.553496",
     "exception": false,
     "start_time": "2024-08-16T18:00:59.504361",
     "status": "completed"
    },
    "tags": []
   },
   "outputs": [
    {
     "name": "stdout",
     "output_type": "stream",
     "text": [
      "['arabic', 'azerbaijani', 'basque', 'bengali', 'catalan', 'chinese', 'danish', 'dutch', 'english', 'finnish', 'french', 'german', 'greek', 'hebrew', 'hinglish', 'hungarian', 'indonesian', 'italian', 'kazakh', 'nepali', 'norwegian', 'portuguese', 'romanian', 'russian', 'slovene', 'spanish', 'swedish', 'tajik', 'turkish']\n"
     ]
    }
   ],
   "source": [
    "print(stopwords.fileids()) # list of languages some of which are used in the stopwords function above"
   ]
  },
  {
   "cell_type": "code",
   "execution_count": 9,
   "id": "1164e9cb",
   "metadata": {
    "execution": {
     "iopub.execute_input": "2024-08-16T18:00:59.590308Z",
     "iopub.status.busy": "2024-08-16T18:00:59.589136Z",
     "iopub.status.idle": "2024-08-16T18:00:59.597229Z",
     "shell.execute_reply": "2024-08-16T18:00:59.595433Z"
    },
    "papermill": {
     "duration": 0.028776,
     "end_time": "2024-08-16T18:00:59.600402",
     "exception": false,
     "start_time": "2024-08-16T18:00:59.571626",
     "status": "completed"
    },
    "tags": []
   },
   "outputs": [],
   "source": [
    "# df.sort_values(by = 'length', ascending = False)"
   ]
  },
  {
   "cell_type": "code",
   "execution_count": 10,
   "id": "bbae92c9",
   "metadata": {
    "execution": {
     "iopub.execute_input": "2024-08-16T18:00:59.637864Z",
     "iopub.status.busy": "2024-08-16T18:00:59.637391Z",
     "iopub.status.idle": "2024-08-16T18:01:32.899723Z",
     "shell.execute_reply": "2024-08-16T18:01:32.897321Z"
    },
    "papermill": {
     "duration": 33.305392,
     "end_time": "2024-08-16T18:01:32.925814",
     "exception": false,
     "start_time": "2024-08-16T18:00:59.620422",
     "status": "completed"
    },
    "tags": []
   },
   "outputs": [
    {
     "name": "stdout",
     "output_type": "stream",
     "text": [
      "Before:\n",
      " Indians r poor but India is not a poor country. Says one of the swiss bank directors. He says that \\ &lt;#&gt;  lac crore\\\" of Indian money is deposited in swiss banks which can be used for 'taxless' budget for  &lt;#&gt;  yrs. Can give  &lt;#&gt;  crore jobs to all Indians. From any village to Delhi 4 lane roads. Forever free power suply to more than  &lt;#&gt;  social projects. Every citizen can get monthly  &lt;#&gt; /- for  &lt;#&gt;  yrs. No need of World Bank &amp; IMF loan. Think how our money is blocked by rich politicians. We have full rights against corrupt politicians. Itna forward karo ki pura INDIA padhe.g.m.\\\"\"\n",
      "After:\n",
      "  indian poor india poor countri say one swiss bank director he say ltgt lac crore indian money deposit swiss bank use taxless budget ltgt yrs can give ltgt crore job indian from villag delhi lane road forev free power supli ltgt social project everi citizen get month ltgt ltgt yrs no need world bank amp imf loan think money block rich politician we full right corrupt politician itna forward karo ki pura india padhegm\n"
     ]
    }
   ],
   "source": [
    "df = df_raw.copy()\n",
    "print(f'Before:\\n {df.txt.iloc[2433]}')\n",
    "\n",
    "df.txt = df.txt.apply(lambda txt: remove_punctuations(txt))\n",
    "df.txt = df.txt.apply(lambda txt: remove_shortwords(txt))\n",
    "df.txt = df.txt.apply(lambda txt: remove_stopwords(txt))\n",
    "df.txt = df.txt.apply(lambda txt: stemmer(txt))\n",
    "\n",
    "print(f'After:\\n  {df.txt.iloc[2433]}')"
   ]
  },
  {
   "cell_type": "code",
   "execution_count": 11,
   "id": "9763e82d",
   "metadata": {
    "execution": {
     "iopub.execute_input": "2024-08-16T18:01:32.962087Z",
     "iopub.status.busy": "2024-08-16T18:01:32.961644Z",
     "iopub.status.idle": "2024-08-16T18:01:32.970728Z",
     "shell.execute_reply": "2024-08-16T18:01:32.968652Z"
    },
    "papermill": {
     "duration": 0.031977,
     "end_time": "2024-08-16T18:01:32.974135",
     "exception": false,
     "start_time": "2024-08-16T18:01:32.942158",
     "status": "completed"
    },
    "tags": []
   },
   "outputs": [],
   "source": [
    "from nltk.tokenize import word_tokenize\n",
    "# since we are do countvectorizer later in this notebook, I removed tokenization from this step\n",
    "df_t = df.copy()\n",
    "# df_t.txt = df_t.txt.apply(lambda txt: word_tokenize(txt))\n"
   ]
  },
  {
   "cell_type": "markdown",
   "id": "98ebf89f",
   "metadata": {
    "papermill": {
     "duration": 0.017938,
     "end_time": "2024-08-16T18:01:33.010060",
     "exception": false,
     "start_time": "2024-08-16T18:01:32.992122",
     "status": "completed"
    },
    "tags": []
   },
   "source": [
    "# Feature Creation"
   ]
  },
  {
   "cell_type": "code",
   "execution_count": 12,
   "id": "a05863ba",
   "metadata": {
    "execution": {
     "iopub.execute_input": "2024-08-16T18:01:33.049442Z",
     "iopub.status.busy": "2024-08-16T18:01:33.049047Z",
     "iopub.status.idle": "2024-08-16T18:01:33.063026Z",
     "shell.execute_reply": "2024-08-16T18:01:33.061190Z"
    },
    "papermill": {
     "duration": 0.037416,
     "end_time": "2024-08-16T18:01:33.066442",
     "exception": false,
     "start_time": "2024-08-16T18:01:33.029026",
     "status": "completed"
    },
    "tags": []
   },
   "outputs": [],
   "source": [
    "# new feature: length of the messages\n",
    "df['length'] = df.txt.apply(lambda sms: len(sms))\n",
    "df_t['length'] =  df['length']"
   ]
  },
  {
   "cell_type": "markdown",
   "id": "ee54b787",
   "metadata": {
    "papermill": {
     "duration": 0.015918,
     "end_time": "2024-08-16T18:01:33.099151",
     "exception": false,
     "start_time": "2024-08-16T18:01:33.083233",
     "status": "completed"
    },
    "tags": []
   },
   "source": [
    "Let's see if message length is a reasonable feature to add:"
   ]
  },
  {
   "cell_type": "code",
   "execution_count": 13,
   "id": "ca93f6d8",
   "metadata": {
    "execution": {
     "iopub.execute_input": "2024-08-16T18:01:33.134076Z",
     "iopub.status.busy": "2024-08-16T18:01:33.133476Z",
     "iopub.status.idle": "2024-08-16T18:01:33.715670Z",
     "shell.execute_reply": "2024-08-16T18:01:33.714039Z"
    },
    "papermill": {
     "duration": 0.604892,
     "end_time": "2024-08-16T18:01:33.719821",
     "exception": false,
     "start_time": "2024-08-16T18:01:33.114929",
     "status": "completed"
    },
    "tags": []
   },
   "outputs": [
    {
     "name": "stderr",
     "output_type": "stream",
     "text": [
      "/opt/conda/lib/python3.10/site-packages/seaborn/_oldcore.py:1119: FutureWarning: use_inf_as_na option is deprecated and will be removed in a future version. Convert inf values to NaN before operating instead.\n",
      "  with pd.option_context('mode.use_inf_as_na', True):\n",
      "/opt/conda/lib/python3.10/site-packages/seaborn/_oldcore.py:1075: FutureWarning: When grouping with a length-1 list-like, you will need to pass a length-1 tuple to get_group in a future version of pandas. Pass `(name,)` instead of `name` to silence this warning.\n",
      "  data_subset = grouped_data.get_group(pd_key)\n",
      "/opt/conda/lib/python3.10/site-packages/seaborn/_oldcore.py:1075: FutureWarning: When grouping with a length-1 list-like, you will need to pass a length-1 tuple to get_group in a future version of pandas. Pass `(name,)` instead of `name` to silence this warning.\n",
      "  data_subset = grouped_data.get_group(pd_key)\n",
      "/opt/conda/lib/python3.10/site-packages/seaborn/_oldcore.py:1075: FutureWarning: When grouping with a length-1 list-like, you will need to pass a length-1 tuple to get_group in a future version of pandas. Pass `(name,)` instead of `name` to silence this warning.\n",
      "  data_subset = grouped_data.get_group(pd_key)\n"
     ]
    },
    {
     "data": {
      "text/plain": [
       "<Axes: xlabel='length', ylabel='Count'>"
      ]
     },
     "execution_count": 13,
     "metadata": {},
     "output_type": "execute_result"
    },
    {
     "data": {
      "image/png": "[encoded data removed]",
      "text/plain": [
       "<Figure size 640x480 with 1 Axes>"
      ]
     },
     "metadata": {},
     "output_type": "display_data"
    }
   ],
   "source": [
    "sns.histplot(data = df, x = 'length', hue = 'label', bins = 20)"
   ]
  },
  {
   "cell_type": "markdown",
   "id": "6125f071",
   "metadata": {
    "papermill": {
     "duration": 0.017101,
     "end_time": "2024-08-16T18:01:33.755005",
     "exception": false,
     "start_time": "2024-08-16T18:01:33.737904",
     "status": "completed"
    },
    "tags": []
   },
   "source": [
    "There's a good chance that shorter messages are not spam. So I will keep the feature."
   ]
  },
  {
   "cell_type": "code",
   "execution_count": 14,
   "id": "bda5ee88",
   "metadata": {
    "execution": {
     "iopub.execute_input": "2024-08-16T18:01:33.793872Z",
     "iopub.status.busy": "2024-08-16T18:01:33.792816Z",
     "iopub.status.idle": "2024-08-16T18:01:34.064511Z",
     "shell.execute_reply": "2024-08-16T18:01:34.062930Z"
    },
    "papermill": {
     "duration": 0.295058,
     "end_time": "2024-08-16T18:01:34.067365",
     "exception": false,
     "start_time": "2024-08-16T18:01:33.772307",
     "status": "completed"
    },
    "tags": []
   },
   "outputs": [
    {
     "data": {
      "text/plain": [
       "<Axes: xlabel='label', ylabel='count'>"
      ]
     },
     "execution_count": 14,
     "metadata": {},
     "output_type": "execute_result"
    },
    {
     "data": {
      "image/png": "[encoded data removed]",
      "text/plain": [
       "<Figure size 640x480 with 1 Axes>"
      ]
     },
     "metadata": {},
     "output_type": "display_data"
    }
   ],
   "source": [
    "import seaborn as sns\n",
    "sns.countplot(data = df, x ='label')"
   ]
  },
  {
   "cell_type": "markdown",
   "id": "de06fffb",
   "metadata": {
    "papermill": {
     "duration": 0.016191,
     "end_time": "2024-08-16T18:01:34.100223",
     "exception": false,
     "start_time": "2024-08-16T18:01:34.084032",
     "status": "completed"
    },
    "tags": []
   },
   "source": [
    "The data is a highly skewed one! I will take care of it later through:\n",
    "1- over sampling\n",
    "2- weight assignment during training"
   ]
  },
  {
   "cell_type": "code",
   "execution_count": 15,
   "id": "c8c50212",
   "metadata": {
    "execution": {
     "iopub.execute_input": "2024-08-16T18:01:34.136056Z",
     "iopub.status.busy": "2024-08-16T18:01:34.135495Z",
     "iopub.status.idle": "2024-08-16T18:01:34.155748Z",
     "shell.execute_reply": "2024-08-16T18:01:34.153697Z"
    },
    "papermill": {
     "duration": 0.041875,
     "end_time": "2024-08-16T18:01:34.158695",
     "exception": false,
     "start_time": "2024-08-16T18:01:34.116820",
     "status": "completed"
    },
    "tags": []
   },
   "outputs": [
    {
     "data": {
      "text/html": [
       "<div>\n",
       "<style scoped>\n",
       "    .dataframe tbody tr th:only-of-type {\n",
       "        vertical-align: middle;\n",
       "    }\n",
       "\n",
       "    .dataframe tbody tr th {\n",
       "        vertical-align: top;\n",
       "    }\n",
       "\n",
       "    .dataframe thead th {\n",
       "        text-align: right;\n",
       "    }\n",
       "</style>\n",
       "<table border=\"1\" class=\"dataframe\">\n",
       "  <thead>\n",
       "    <tr style=\"text-align: right;\">\n",
       "      <th></th>\n",
       "      <th>label</th>\n",
       "      <th>txt</th>\n",
       "      <th>length</th>\n",
       "    </tr>\n",
       "  </thead>\n",
       "  <tbody>\n",
       "    <tr>\n",
       "      <th>0</th>\n",
       "      <td>0</td>\n",
       "      <td>go jurong point crazi avail bugi great world b...</td>\n",
       "      <td>69</td>\n",
       "    </tr>\n",
       "    <tr>\n",
       "      <th>1</th>\n",
       "      <td>0</td>\n",
       "      <td>ok lar joke wif oni</td>\n",
       "      <td>19</td>\n",
       "    </tr>\n",
       "    <tr>\n",
       "      <th>2</th>\n",
       "      <td>1</td>\n",
       "      <td>free entri wkli comp win fa cup final tkts 21s...</td>\n",
       "      <td>130</td>\n",
       "    </tr>\n",
       "    <tr>\n",
       "      <th>3</th>\n",
       "      <td>0</td>\n",
       "      <td>dun say earli hor alreadi say</td>\n",
       "      <td>29</td>\n",
       "    </tr>\n",
       "    <tr>\n",
       "      <th>4</th>\n",
       "      <td>0</td>\n",
       "      <td>nah dont think goe usf live around though</td>\n",
       "      <td>41</td>\n",
       "    </tr>\n",
       "    <tr>\n",
       "      <th>...</th>\n",
       "      <td>...</td>\n",
       "      <td>...</td>\n",
       "      <td>...</td>\n",
       "    </tr>\n",
       "    <tr>\n",
       "      <th>5567</th>\n",
       "      <td>1</td>\n",
       "      <td>this 2nd time tri contact å£750 pound prize cl...</td>\n",
       "      <td>108</td>\n",
       "    </tr>\n",
       "    <tr>\n",
       "      <th>5568</th>\n",
       "      <td>0</td>\n",
       "      <td>will go esplanad fr home</td>\n",
       "      <td>24</td>\n",
       "    </tr>\n",
       "    <tr>\n",
       "      <th>5569</th>\n",
       "      <td>0</td>\n",
       "      <td>piti mood soani suggest</td>\n",
       "      <td>23</td>\n",
       "    </tr>\n",
       "    <tr>\n",
       "      <th>5570</th>\n",
       "      <td>0</td>\n",
       "      <td>the guy bitch act like id interest buy someth ...</td>\n",
       "      <td>72</td>\n",
       "    </tr>\n",
       "    <tr>\n",
       "      <th>5571</th>\n",
       "      <td>0</td>\n",
       "      <td>rofl it true name</td>\n",
       "      <td>17</td>\n",
       "    </tr>\n",
       "  </tbody>\n",
       "</table>\n",
       "<p>5572 rows × 3 columns</p>\n",
       "</div>"
      ],
      "text/plain": [
       "      label                                                txt  length\n",
       "0         0  go jurong point crazi avail bugi great world b...      69\n",
       "1         0                                ok lar joke wif oni      19\n",
       "2         1  free entri wkli comp win fa cup final tkts 21s...     130\n",
       "3         0                      dun say earli hor alreadi say      29\n",
       "4         0          nah dont think goe usf live around though      41\n",
       "...     ...                                                ...     ...\n",
       "5567      1  this 2nd time tri contact å£750 pound prize cl...     108\n",
       "5568      0                           will go esplanad fr home      24\n",
       "5569      0                            piti mood soani suggest      23\n",
       "5570      0  the guy bitch act like id interest buy someth ...      72\n",
       "5571      0                                  rofl it true name      17\n",
       "\n",
       "[5572 rows x 3 columns]"
      ]
     },
     "execution_count": 15,
     "metadata": {},
     "output_type": "execute_result"
    }
   ],
   "source": [
    "df_t.label = df_t.label.map({'ham':0, 'spam':1})\n",
    "df_t"
   ]
  },
  {
   "cell_type": "code",
   "execution_count": 16,
   "id": "a4de2891",
   "metadata": {
    "execution": {
     "iopub.execute_input": "2024-08-16T18:01:34.197184Z",
     "iopub.status.busy": "2024-08-16T18:01:34.195888Z",
     "iopub.status.idle": "2024-08-16T18:01:34.215451Z",
     "shell.execute_reply": "2024-08-16T18:01:34.213671Z"
    },
    "papermill": {
     "duration": 0.041934,
     "end_time": "2024-08-16T18:01:34.218465",
     "exception": false,
     "start_time": "2024-08-16T18:01:34.176531",
     "status": "completed"
    },
    "tags": []
   },
   "outputs": [],
   "source": [
    "from sklearn.model_selection import train_test_split\n",
    "xtrain, xval, ytrain, yval = train_test_split(df_t[['txt', 'length']], df_t.label, random_state = 42)\n",
    "xtrain = xtrain.reset_index(drop = True)\n",
    "xval = xval.reset_index(drop = True)\n",
    "ytrain = ytrain.reset_index(drop = True)\n",
    "yval = yval.reset_index(drop = True)"
   ]
  },
  {
   "cell_type": "markdown",
   "id": "33ab6a34",
   "metadata": {
    "papermill": {
     "duration": 0.017401,
     "end_time": "2024-08-16T18:01:34.323165",
     "exception": false,
     "start_time": "2024-08-16T18:01:34.305764",
     "status": "completed"
    },
    "tags": []
   },
   "source": [
    "## Count Vectorizer"
   ]
  },
  {
   "cell_type": "code",
   "execution_count": 17,
   "id": "0336f789",
   "metadata": {
    "execution": {
     "iopub.execute_input": "2024-08-16T18:01:34.362418Z",
     "iopub.status.busy": "2024-08-16T18:01:34.361926Z",
     "iopub.status.idle": "2024-08-16T18:01:34.490360Z",
     "shell.execute_reply": "2024-08-16T18:01:34.488990Z"
    },
    "papermill": {
     "duration": 0.150688,
     "end_time": "2024-08-16T18:01:34.493764",
     "exception": false,
     "start_time": "2024-08-16T18:01:34.343076",
     "status": "completed"
    },
    "tags": []
   },
   "outputs": [],
   "source": [
    "from sklearn.feature_extraction.text import CountVectorizer\n",
    "vectorizer = CountVectorizer()\n",
    "\n",
    "xtrain_v = vectorizer.fit_transform(xtrain['txt'])\n",
    "xval_v = vectorizer.transform(xval['txt'])"
   ]
  },
  {
   "cell_type": "markdown",
   "id": "b146e342",
   "metadata": {
    "papermill": {
     "duration": 0.018261,
     "end_time": "2024-08-16T18:01:34.530722",
     "exception": false,
     "start_time": "2024-08-16T18:01:34.512461",
     "status": "completed"
    },
    "tags": []
   },
   "source": [
    "## TFid Transformer"
   ]
  },
  {
   "cell_type": "code",
   "execution_count": 18,
   "id": "d31e40cb",
   "metadata": {
    "execution": {
     "iopub.execute_input": "2024-08-16T18:01:34.568431Z",
     "iopub.status.busy": "2024-08-16T18:01:34.568003Z",
     "iopub.status.idle": "2024-08-16T18:01:34.589143Z",
     "shell.execute_reply": "2024-08-16T18:01:34.587864Z"
    },
    "papermill": {
     "duration": 0.043626,
     "end_time": "2024-08-16T18:01:34.592249",
     "exception": false,
     "start_time": "2024-08-16T18:01:34.548623",
     "status": "completed"
    },
    "tags": []
   },
   "outputs": [],
   "source": [
    "from sklearn.feature_extraction.text import TfidfTransformer\n",
    "tfid = TfidfTransformer()\n",
    "\n",
    "xtrain_tf = tfid.fit_transform(xtrain_v)\n",
    "xval_tf = tfid.transform(xval_v)"
   ]
  },
  {
   "cell_type": "code",
   "execution_count": 19,
   "id": "52790962",
   "metadata": {
    "execution": {
     "iopub.execute_input": "2024-08-16T18:01:34.629356Z",
     "iopub.status.busy": "2024-08-16T18:01:34.628962Z",
     "iopub.status.idle": "2024-08-16T18:01:34.855876Z",
     "shell.execute_reply": "2024-08-16T18:01:34.853918Z"
    },
    "papermill": {
     "duration": 0.249259,
     "end_time": "2024-08-16T18:01:34.858952",
     "exception": false,
     "start_time": "2024-08-16T18:01:34.609693",
     "status": "completed"
    },
    "tags": []
   },
   "outputs": [],
   "source": [
    "xtrain_tf = pd.DataFrame(xtrain_tf.toarray(), columns = vectorizer.get_feature_names_out())\n",
    "xval_tf = pd.DataFrame(xval_tf.toarray(), columns = vectorizer.get_feature_names_out())"
   ]
  },
  {
   "cell_type": "code",
   "execution_count": 20,
   "id": "18c04c00",
   "metadata": {
    "execution": {
     "iopub.execute_input": "2024-08-16T18:01:34.897132Z",
     "iopub.status.busy": "2024-08-16T18:01:34.895726Z",
     "iopub.status.idle": "2024-08-16T18:01:34.910111Z",
     "shell.execute_reply": "2024-08-16T18:01:34.908425Z"
    },
    "papermill": {
     "duration": 0.03644,
     "end_time": "2024-08-16T18:01:34.913192",
     "exception": false,
     "start_time": "2024-08-16T18:01:34.876752",
     "status": "completed"
    },
    "tags": []
   },
   "outputs": [
    {
     "data": {
      "text/html": [
       "<div>\n",
       "<style scoped>\n",
       "    .dataframe tbody tr th:only-of-type {\n",
       "        vertical-align: middle;\n",
       "    }\n",
       "\n",
       "    .dataframe tbody tr th {\n",
       "        vertical-align: top;\n",
       "    }\n",
       "\n",
       "    .dataframe thead th {\n",
       "        text-align: right;\n",
       "    }\n",
       "</style>\n",
       "<table border=\"1\" class=\"dataframe\">\n",
       "  <thead>\n",
       "    <tr style=\"text-align: right;\">\n",
       "      <th></th>\n",
       "      <th>txt</th>\n",
       "      <th>length</th>\n",
       "    </tr>\n",
       "  </thead>\n",
       "  <tbody>\n",
       "    <tr>\n",
       "      <th>1388</th>\n",
       "      <td>have good even ttyl</td>\n",
       "      <td>19</td>\n",
       "    </tr>\n",
       "    <tr>\n",
       "      <th>1389</th>\n",
       "      <td>take exam march</td>\n",
       "      <td>15</td>\n",
       "    </tr>\n",
       "    <tr>\n",
       "      <th>1390</th>\n",
       "      <td>aiyah ok wat long got improv alreadi wat</td>\n",
       "      <td>40</td>\n",
       "    </tr>\n",
       "    <tr>\n",
       "      <th>1391</th>\n",
       "      <td>sif one good partnership go take lead</td>\n",
       "      <td>37</td>\n",
       "    </tr>\n",
       "    <tr>\n",
       "      <th>1392</th>\n",
       "      <td>get messag</td>\n",
       "      <td>10</td>\n",
       "    </tr>\n",
       "  </tbody>\n",
       "</table>\n",
       "</div>"
      ],
      "text/plain": [
       "                                           txt  length\n",
       "1388                       have good even ttyl      19\n",
       "1389                           take exam march      15\n",
       "1390  aiyah ok wat long got improv alreadi wat      40\n",
       "1391     sif one good partnership go take lead      37\n",
       "1392                                get messag      10"
      ]
     },
     "execution_count": 20,
     "metadata": {},
     "output_type": "execute_result"
    }
   ],
   "source": [
    "xval.tail()"
   ]
  },
  {
   "cell_type": "markdown",
   "id": "81be0eac",
   "metadata": {
    "papermill": {
     "duration": 0.017157,
     "end_time": "2024-08-16T18:01:34.947880",
     "exception": false,
     "start_time": "2024-08-16T18:01:34.930723",
     "status": "completed"
    },
    "tags": []
   },
   "source": [
    "# Model"
   ]
  },
  {
   "cell_type": "markdown",
   "id": "8af7ef44",
   "metadata": {
    "papermill": {
     "duration": 0.017174,
     "end_time": "2024-08-16T18:01:34.982491",
     "exception": false,
     "start_time": "2024-08-16T18:01:34.965317",
     "status": "completed"
    },
    "tags": []
   },
   "source": [
    "### Dummy classifier: \n",
    "classify everything as the majority class"
   ]
  },
  {
   "cell_type": "code",
   "execution_count": 21,
   "id": "8a80f226",
   "metadata": {
    "execution": {
     "iopub.execute_input": "2024-08-16T18:01:35.023871Z",
     "iopub.status.busy": "2024-08-16T18:01:35.023384Z",
     "iopub.status.idle": "2024-08-16T18:01:35.053039Z",
     "shell.execute_reply": "2024-08-16T18:01:35.051145Z"
    },
    "papermill": {
     "duration": 0.057132,
     "end_time": "2024-08-16T18:01:35.057150",
     "exception": false,
     "start_time": "2024-08-16T18:01:35.000018",
     "status": "completed"
    },
    "tags": []
   },
   "outputs": [
    {
     "name": "stdout",
     "output_type": "stream",
     "text": [
      "              precision    recall  f1-score   support\n",
      "\n",
      "         0.0       1.00      0.86      0.93      1393\n",
      "         1.0       0.00      0.00      0.00         0\n",
      "\n",
      "    accuracy                           0.86      1393\n",
      "   macro avg       0.50      0.43      0.46      1393\n",
      "weighted avg       1.00      0.86      0.93      1393\n",
      "\n",
      "---------------------------------------\n",
      "[[86.28858579 13.71141421]\n",
      " [ 0.          0.        ]]\n"
     ]
    },
    {
     "name": "stderr",
     "output_type": "stream",
     "text": [
      "/opt/conda/lib/python3.10/site-packages/sklearn/metrics/_classification.py:1344: UndefinedMetricWarning: Recall and F-score are ill-defined and being set to 0.0 in labels with no true samples. Use `zero_division` parameter to control this behavior.\n",
      "  _warn_prf(average, modifier, msg_start, len(result))\n",
      "/opt/conda/lib/python3.10/site-packages/sklearn/metrics/_classification.py:1344: UndefinedMetricWarning: Recall and F-score are ill-defined and being set to 0.0 in labels with no true samples. Use `zero_division` parameter to control this behavior.\n",
      "  _warn_prf(average, modifier, msg_start, len(result))\n",
      "/opt/conda/lib/python3.10/site-packages/sklearn/metrics/_classification.py:1344: UndefinedMetricWarning: Recall and F-score are ill-defined and being set to 0.0 in labels with no true samples. Use `zero_division` parameter to control this behavior.\n",
      "  _warn_prf(average, modifier, msg_start, len(result))\n"
     ]
    }
   ],
   "source": [
    "dummy_pred = np.zeros(1393,)\n",
    "print(classification_report(dummy_pred, yval))\n",
    "print('---------------------------------------')\n",
    "print(confusion_matrix(dummy_pred, yval, normalize = 'true')*100)"
   ]
  },
  {
   "cell_type": "markdown",
   "id": "80e9472f",
   "metadata": {
    "papermill": {
     "duration": 0.017663,
     "end_time": "2024-08-16T18:01:35.093136",
     "exception": false,
     "start_time": "2024-08-16T18:01:35.075473",
     "status": "completed"
    },
    "tags": []
   },
   "source": [
    "### Logistic Regression"
   ]
  },
  {
   "cell_type": "code",
   "execution_count": 22,
   "id": "fc35dbf6",
   "metadata": {
    "execution": {
     "iopub.execute_input": "2024-08-16T18:01:35.130719Z",
     "iopub.status.busy": "2024-08-16T18:01:35.130285Z",
     "iopub.status.idle": "2024-08-16T18:01:35.136823Z",
     "shell.execute_reply": "2024-08-16T18:01:35.135273Z"
    },
    "papermill": {
     "duration": 0.028854,
     "end_time": "2024-08-16T18:01:35.139656",
     "exception": false,
     "start_time": "2024-08-16T18:01:35.110802",
     "status": "completed"
    },
    "tags": []
   },
   "outputs": [],
   "source": [
    "from sklearn.linear_model import LogisticRegression\n",
    "lr = LogisticRegression(class_weight = 'balanced')"
   ]
  },
  {
   "cell_type": "markdown",
   "id": "df9779a1",
   "metadata": {
    "papermill": {
     "duration": 0.017312,
     "end_time": "2024-08-16T18:01:35.174456",
     "exception": false,
     "start_time": "2024-08-16T18:01:35.157144",
     "status": "completed"
    },
    "tags": []
   },
   "source": [
    "Let's see what we'll get from the model by running it on the data as is:"
   ]
  },
  {
   "cell_type": "markdown",
   "id": "49395060",
   "metadata": {
    "papermill": {
     "duration": 0.017309,
     "end_time": "2024-08-16T18:01:35.209232",
     "exception": false,
     "start_time": "2024-08-16T18:01:35.191923",
     "status": "completed"
    },
    "tags": []
   },
   "source": [
    "#### On vectorized data"
   ]
  },
  {
   "cell_type": "code",
   "execution_count": 23,
   "id": "f7e300ef",
   "metadata": {
    "execution": {
     "iopub.execute_input": "2024-08-16T18:01:35.247341Z",
     "iopub.status.busy": "2024-08-16T18:01:35.246911Z",
     "iopub.status.idle": "2024-08-16T18:01:35.353530Z",
     "shell.execute_reply": "2024-08-16T18:01:35.351687Z"
    },
    "papermill": {
     "duration": 0.130634,
     "end_time": "2024-08-16T18:01:35.357310",
     "exception": false,
     "start_time": "2024-08-16T18:01:35.226676",
     "status": "completed"
    },
    "tags": []
   },
   "outputs": [
    {
     "name": "stdout",
     "output_type": "stream",
     "text": [
      "----------- Count Vectorizer-------------------------\n",
      "              precision    recall  f1-score   support\n",
      "\n",
      "           0       1.00      0.98      0.99      1227\n",
      "           1       0.86      0.99      0.92       166\n",
      "\n",
      "    accuracy                           0.98      1393\n",
      "   macro avg       0.93      0.98      0.95      1393\n",
      "weighted avg       0.98      0.98      0.98      1393\n",
      "\n",
      "-----------------------------------------------------\n",
      "[[97.  2.]\n",
      " [ 1. 98.]]\n"
     ]
    }
   ],
   "source": [
    "lrc = LogisticRegression()\n",
    "lrc.fit(xtrain_v, ytrain)\n",
    "predict = lrc.predict(xval_v)\n",
    "from sklearn.metrics import classification_report, confusion_matrix\n",
    "print('----------- Count Vectorizer-------------------------')\n",
    "print(classification_report(predict, yval))\n",
    "print('-----------------------------------------------------')\n",
    "print(np.trunc(confusion_matrix(predict, yval, normalize = 'true')*100))"
   ]
  },
  {
   "cell_type": "markdown",
   "id": "b776dfc7",
   "metadata": {
    "papermill": {
     "duration": 0.019075,
     "end_time": "2024-08-16T18:01:35.396940",
     "exception": false,
     "start_time": "2024-08-16T18:01:35.377865",
     "status": "completed"
    },
    "tags": []
   },
   "source": [
    "#### on tfid data"
   ]
  },
  {
   "cell_type": "code",
   "execution_count": 24,
   "id": "1a1fd400",
   "metadata": {
    "execution": {
     "iopub.execute_input": "2024-08-16T18:01:35.435780Z",
     "iopub.status.busy": "2024-08-16T18:01:35.435302Z",
     "iopub.status.idle": "2024-08-16T18:01:35.442512Z",
     "shell.execute_reply": "2024-08-16T18:01:35.440401Z"
    },
    "papermill": {
     "duration": 0.030485,
     "end_time": "2024-08-16T18:01:35.445891",
     "exception": false,
     "start_time": "2024-08-16T18:01:35.415406",
     "status": "completed"
    },
    "tags": []
   },
   "outputs": [],
   "source": [
    "lrtf = LogisticRegression()"
   ]
  },
  {
   "cell_type": "code",
   "execution_count": 25,
   "id": "0d2876e3",
   "metadata": {
    "execution": {
     "iopub.execute_input": "2024-08-16T18:01:35.485495Z",
     "iopub.status.busy": "2024-08-16T18:01:35.485082Z",
     "iopub.status.idle": "2024-08-16T18:01:36.488151Z",
     "shell.execute_reply": "2024-08-16T18:01:36.485986Z"
    },
    "papermill": {
     "duration": 1.029861,
     "end_time": "2024-08-16T18:01:36.493790",
     "exception": false,
     "start_time": "2024-08-16T18:01:35.463929",
     "status": "completed"
    },
    "tags": []
   },
   "outputs": [
    {
     "name": "stdout",
     "output_type": "stream",
     "text": [
      "----------- TFID -------------------\n",
      "              precision    recall  f1-score   support\n",
      "\n",
      "           0       0.99      0.98      0.99      1207\n",
      "           1       0.90      0.92      0.91       186\n",
      "\n",
      "    accuracy                           0.98      1393\n",
      "   macro avg       0.94      0.95      0.95      1393\n",
      "weighted avg       0.98      0.98      0.98      1393\n",
      "\n",
      "---------------------------------------\n",
      "[[98.  1.]\n",
      " [ 7. 92.]]\n"
     ]
    }
   ],
   "source": [
    "lrtf = LogisticRegression(class_weight = 'balanced')\n",
    "lrtf.fit(xtrain_tf, ytrain)\n",
    "pred = lrtf.predict(xval_tf)\n",
    "print('----------- TFID -------------------')\n",
    "print(classification_report(pred, yval))\n",
    "print('---------------------------------------')\n",
    "print(np.trunc(confusion_matrix(pred, yval, normalize = 'true')*100))"
   ]
  },
  {
   "cell_type": "markdown",
   "id": "37ed91f7",
   "metadata": {
    "papermill": {
     "duration": 0.040668,
     "end_time": "2024-08-16T18:01:36.576339",
     "exception": false,
     "start_time": "2024-08-16T18:01:36.535671",
     "status": "completed"
    },
    "tags": []
   },
   "source": [
    "It is odd for me that countvectorizer is doing better than tfid. I did a quick research:\n",
    "\n",
    "from: https://datascience.stackexchange.com/questions/49047/will-a-count-vectorizer-ever-perform-slightly-better-than-tf-idf\n",
    "As the size of the vocabulary increases, TfidfVectorizer would be better able to differentiate rare words and commonly occurring words while Countvectorizer would still give equal weight to all words which is undesirable. So, TfidfVectorizer will give you better performance than CountVectorizer as the size of the vocabulary increases.\n",
    "\n",
    "\n",
    "from: https://datascience.stackexchange.com/questions/12607/tf-idf-vectorizer-doesnt-work-better-than-countvectorizer\n",
    "There are a few possibilities. First, there is some variability in performance. It could have been only by chance that countvectorizer performed better than tf-idf. Did you use cross validation (with how many folds)? Is the superior performance of the countvectorizer reliable? I would compare performance across folds to make sure countvectorizer consistently performs better.\n",
    "\n",
    "Second, if you find that countvectorizer reliably outperforms tf-idf on your dataset, then I would dig deeper into the words that are driving this effect. It may be that common words (words which will appear in multiple documents) are helpful in distinguishing between classes. There is substantial research that shows that use of some function words (e.g. first person singular pronouns, “I”) change depending on someone’s psychological state. Function words like pronouns are very common and would be down weighted in tf-idf, but given equal weight to rare words in countvectorizer. I’m not suggesting that first person singular pronouns in particular are driving your results, but it’s worth looking at what words are driving the effect. I would examine which words are important in both types of models, countvectorizer and tf-idf, and then think about whether the words that are most important for the countvectorizer make sense in the context of your text documents and labels. Also, are you removing stop words? You could also see how the models perform with and without stop words, which would be another way to test whether frequent words are actually helping you to distinguish between classes."
   ]
  },
  {
   "cell_type": "markdown",
   "id": "0be53672",
   "metadata": {
    "papermill": {
     "duration": 0.02262,
     "end_time": "2024-08-16T18:01:36.621718",
     "exception": false,
     "start_time": "2024-08-16T18:01:36.599098",
     "status": "completed"
    },
    "tags": []
   },
   "source": [
    "Lets take a look at some of the false positive ones (ham, but classifed as spam)"
   ]
  },
  {
   "cell_type": "code",
   "execution_count": 26,
   "id": "38fdac1a",
   "metadata": {
    "execution": {
     "iopub.execute_input": "2024-08-16T18:01:36.668896Z",
     "iopub.status.busy": "2024-08-16T18:01:36.668457Z",
     "iopub.status.idle": "2024-08-16T18:01:36.709102Z",
     "shell.execute_reply": "2024-08-16T18:01:36.707601Z"
    },
    "papermill": {
     "duration": 0.068321,
     "end_time": "2024-08-16T18:01:36.712073",
     "exception": false,
     "start_time": "2024-08-16T18:01:36.643752",
     "status": "completed"
    },
    "tags": []
   },
   "outputs": [
    {
     "data": {
      "text/html": [
       "<div>\n",
       "<style scoped>\n",
       "    .dataframe tbody tr th:only-of-type {\n",
       "        vertical-align: middle;\n",
       "    }\n",
       "\n",
       "    .dataframe tbody tr th {\n",
       "        vertical-align: top;\n",
       "    }\n",
       "\n",
       "    .dataframe thead th {\n",
       "        text-align: right;\n",
       "    }\n",
       "</style>\n",
       "<table border=\"1\" class=\"dataframe\">\n",
       "  <thead>\n",
       "    <tr style=\"text-align: right;\">\n",
       "      <th></th>\n",
       "      <th>008704050406</th>\n",
       "      <th>0089mi</th>\n",
       "      <th>0121</th>\n",
       "      <th>0125698789</th>\n",
       "      <th>02</th>\n",
       "      <th>020603</th>\n",
       "      <th>0207</th>\n",
       "      <th>02070836089</th>\n",
       "      <th>02072069400</th>\n",
       "      <th>02073162414</th>\n",
       "      <th>...</th>\n",
       "      <th>ìï</th>\n",
       "      <th>ìïll</th>\n",
       "      <th>ûthank</th>\n",
       "      <th>ûªm</th>\n",
       "      <th>ûªt</th>\n",
       "      <th>ûªv</th>\n",
       "      <th>ûï</th>\n",
       "      <th>ûïharri</th>\n",
       "      <th>ûò</th>\n",
       "      <th>ûówel</th>\n",
       "    </tr>\n",
       "  </thead>\n",
       "  <tbody>\n",
       "    <tr>\n",
       "      <th>0</th>\n",
       "      <td>0.0</td>\n",
       "      <td>0.0</td>\n",
       "      <td>0.0</td>\n",
       "      <td>0.0</td>\n",
       "      <td>0.0</td>\n",
       "      <td>0.0</td>\n",
       "      <td>0.0</td>\n",
       "      <td>0.0</td>\n",
       "      <td>0.0</td>\n",
       "      <td>0.0</td>\n",
       "      <td>...</td>\n",
       "      <td>0.0</td>\n",
       "      <td>0.0</td>\n",
       "      <td>0.0</td>\n",
       "      <td>0.0</td>\n",
       "      <td>0.0</td>\n",
       "      <td>0.0</td>\n",
       "      <td>0.0</td>\n",
       "      <td>0.0</td>\n",
       "      <td>0.0</td>\n",
       "      <td>0.0</td>\n",
       "    </tr>\n",
       "    <tr>\n",
       "      <th>1</th>\n",
       "      <td>0.0</td>\n",
       "      <td>0.0</td>\n",
       "      <td>0.0</td>\n",
       "      <td>0.0</td>\n",
       "      <td>0.0</td>\n",
       "      <td>0.0</td>\n",
       "      <td>0.0</td>\n",
       "      <td>0.0</td>\n",
       "      <td>0.0</td>\n",
       "      <td>0.0</td>\n",
       "      <td>...</td>\n",
       "      <td>0.0</td>\n",
       "      <td>0.0</td>\n",
       "      <td>0.0</td>\n",
       "      <td>0.0</td>\n",
       "      <td>0.0</td>\n",
       "      <td>0.0</td>\n",
       "      <td>0.0</td>\n",
       "      <td>0.0</td>\n",
       "      <td>0.0</td>\n",
       "      <td>0.0</td>\n",
       "    </tr>\n",
       "    <tr>\n",
       "      <th>2</th>\n",
       "      <td>0.0</td>\n",
       "      <td>0.0</td>\n",
       "      <td>0.0</td>\n",
       "      <td>0.0</td>\n",
       "      <td>0.0</td>\n",
       "      <td>0.0</td>\n",
       "      <td>0.0</td>\n",
       "      <td>0.0</td>\n",
       "      <td>0.0</td>\n",
       "      <td>0.0</td>\n",
       "      <td>...</td>\n",
       "      <td>0.0</td>\n",
       "      <td>0.0</td>\n",
       "      <td>0.0</td>\n",
       "      <td>0.0</td>\n",
       "      <td>0.0</td>\n",
       "      <td>0.0</td>\n",
       "      <td>0.0</td>\n",
       "      <td>0.0</td>\n",
       "      <td>0.0</td>\n",
       "      <td>0.0</td>\n",
       "    </tr>\n",
       "    <tr>\n",
       "      <th>3</th>\n",
       "      <td>0.0</td>\n",
       "      <td>0.0</td>\n",
       "      <td>0.0</td>\n",
       "      <td>0.0</td>\n",
       "      <td>0.0</td>\n",
       "      <td>0.0</td>\n",
       "      <td>0.0</td>\n",
       "      <td>0.0</td>\n",
       "      <td>0.0</td>\n",
       "      <td>0.0</td>\n",
       "      <td>...</td>\n",
       "      <td>0.0</td>\n",
       "      <td>0.0</td>\n",
       "      <td>0.0</td>\n",
       "      <td>0.0</td>\n",
       "      <td>0.0</td>\n",
       "      <td>0.0</td>\n",
       "      <td>0.0</td>\n",
       "      <td>0.0</td>\n",
       "      <td>0.0</td>\n",
       "      <td>0.0</td>\n",
       "    </tr>\n",
       "    <tr>\n",
       "      <th>4</th>\n",
       "      <td>0.0</td>\n",
       "      <td>0.0</td>\n",
       "      <td>0.0</td>\n",
       "      <td>0.0</td>\n",
       "      <td>0.0</td>\n",
       "      <td>0.0</td>\n",
       "      <td>0.0</td>\n",
       "      <td>0.0</td>\n",
       "      <td>0.0</td>\n",
       "      <td>0.0</td>\n",
       "      <td>...</td>\n",
       "      <td>0.0</td>\n",
       "      <td>0.0</td>\n",
       "      <td>0.0</td>\n",
       "      <td>0.0</td>\n",
       "      <td>0.0</td>\n",
       "      <td>0.0</td>\n",
       "      <td>0.0</td>\n",
       "      <td>0.0</td>\n",
       "      <td>0.0</td>\n",
       "      <td>0.0</td>\n",
       "    </tr>\n",
       "  </tbody>\n",
       "</table>\n",
       "<p>5 rows × 6896 columns</p>\n",
       "</div>"
      ],
      "text/plain": [
       "   008704050406  0089mi  0121  0125698789   02  020603  0207  02070836089  \\\n",
       "0           0.0     0.0   0.0         0.0  0.0     0.0   0.0          0.0   \n",
       "1           0.0     0.0   0.0         0.0  0.0     0.0   0.0          0.0   \n",
       "2           0.0     0.0   0.0         0.0  0.0     0.0   0.0          0.0   \n",
       "3           0.0     0.0   0.0         0.0  0.0     0.0   0.0          0.0   \n",
       "4           0.0     0.0   0.0         0.0  0.0     0.0   0.0          0.0   \n",
       "\n",
       "   02072069400  02073162414  ...   ìï  ìïll  ûthank  ûªm  ûªt  ûªv   ûï  \\\n",
       "0          0.0          0.0  ...  0.0   0.0     0.0  0.0  0.0  0.0  0.0   \n",
       "1          0.0          0.0  ...  0.0   0.0     0.0  0.0  0.0  0.0  0.0   \n",
       "2          0.0          0.0  ...  0.0   0.0     0.0  0.0  0.0  0.0  0.0   \n",
       "3          0.0          0.0  ...  0.0   0.0     0.0  0.0  0.0  0.0  0.0   \n",
       "4          0.0          0.0  ...  0.0   0.0     0.0  0.0  0.0  0.0  0.0   \n",
       "\n",
       "   ûïharri   ûò  ûówel  \n",
       "0      0.0  0.0    0.0  \n",
       "1      0.0  0.0    0.0  \n",
       "2      0.0  0.0    0.0  \n",
       "3      0.0  0.0    0.0  \n",
       "4      0.0  0.0    0.0  \n",
       "\n",
       "[5 rows x 6896 columns]"
      ]
     },
     "execution_count": 26,
     "metadata": {},
     "output_type": "execute_result"
    }
   ],
   "source": [
    "xval_tf.head()"
   ]
  },
  {
   "cell_type": "code",
   "execution_count": 27,
   "id": "160c7d07",
   "metadata": {
    "execution": {
     "iopub.execute_input": "2024-08-16T18:01:36.753251Z",
     "iopub.status.busy": "2024-08-16T18:01:36.752742Z",
     "iopub.status.idle": "2024-08-16T18:01:36.769139Z",
     "shell.execute_reply": "2024-08-16T18:01:36.767542Z"
    },
    "papermill": {
     "duration": 0.040584,
     "end_time": "2024-08-16T18:01:36.772275",
     "exception": false,
     "start_time": "2024-08-16T18:01:36.731691",
     "status": "completed"
    },
    "tags": []
   },
   "outputs": [
    {
     "data": {
      "text/html": [
       "<div>\n",
       "<style scoped>\n",
       "    .dataframe tbody tr th:only-of-type {\n",
       "        vertical-align: middle;\n",
       "    }\n",
       "\n",
       "    .dataframe tbody tr th {\n",
       "        vertical-align: top;\n",
       "    }\n",
       "\n",
       "    .dataframe thead th {\n",
       "        text-align: right;\n",
       "    }\n",
       "</style>\n",
       "<table border=\"1\" class=\"dataframe\">\n",
       "  <thead>\n",
       "    <tr style=\"text-align: right;\">\n",
       "      <th></th>\n",
       "      <th>txt</th>\n",
       "      <th>length</th>\n",
       "    </tr>\n",
       "  </thead>\n",
       "  <tbody>\n",
       "    <tr>\n",
       "      <th>100</th>\n",
       "      <td>like new mobil</td>\n",
       "      <td>14</td>\n",
       "    </tr>\n",
       "    <tr>\n",
       "      <th>101</th>\n",
       "      <td>now free call pa</td>\n",
       "      <td>16</td>\n",
       "    </tr>\n",
       "    <tr>\n",
       "      <th>179</th>\n",
       "      <td>yup next stop</td>\n",
       "      <td>13</td>\n",
       "    </tr>\n",
       "    <tr>\n",
       "      <th>209</th>\n",
       "      <td>send new number</td>\n",
       "      <td>15</td>\n",
       "    </tr>\n",
       "    <tr>\n",
       "      <th>299</th>\n",
       "      <td>new address applespairsal malarki</td>\n",
       "      <td>33</td>\n",
       "    </tr>\n",
       "    <tr>\n",
       "      <th>547</th>\n",
       "      <td>yes chat</td>\n",
       "      <td>8</td>\n",
       "    </tr>\n",
       "    <tr>\n",
       "      <th>567</th>\n",
       "      <td>when get free call</td>\n",
       "      <td>18</td>\n",
       "    </tr>\n",
       "    <tr>\n",
       "      <th>765</th>\n",
       "      <td>send ur birthdat month year tel ur life partne...</td>\n",
       "      <td>77</td>\n",
       "    </tr>\n",
       "    <tr>\n",
       "      <th>786</th>\n",
       "      <td>we sent jd custom servic cum account execut ur...</td>\n",
       "      <td>76</td>\n",
       "    </tr>\n",
       "    <tr>\n",
       "      <th>974</th>\n",
       "      <td>call right call hand phone</td>\n",
       "      <td>26</td>\n",
       "    </tr>\n",
       "    <tr>\n",
       "      <th>1188</th>\n",
       "      <td>wait machan call free</td>\n",
       "      <td>21</td>\n",
       "    </tr>\n",
       "    <tr>\n",
       "      <th>1235</th>\n",
       "      <td>you call ok said call</td>\n",
       "      <td>21</td>\n",
       "    </tr>\n",
       "    <tr>\n",
       "      <th>1237</th>\n",
       "      <td>miss call miss call khelat kintu opponent miss...</td>\n",
       "      <td>107</td>\n",
       "    </tr>\n",
       "    <tr>\n",
       "      <th>1299</th>\n",
       "      <td>guess useless call someth import</td>\n",
       "      <td>32</td>\n",
       "    </tr>\n",
       "  </tbody>\n",
       "</table>\n",
       "</div>"
      ],
      "text/plain": [
       "                                                    txt  length\n",
       "100                                      like new mobil      14\n",
       "101                                    now free call pa      16\n",
       "179                                       yup next stop      13\n",
       "209                                     send new number      15\n",
       "299                   new address applespairsal malarki      33\n",
       "547                                            yes chat       8\n",
       "567                                  when get free call      18\n",
       "765   send ur birthdat month year tel ur life partne...      77\n",
       "786   we sent jd custom servic cum account execut ur...      76\n",
       "974                          call right call hand phone      26\n",
       "1188                              wait machan call free      21\n",
       "1235                              you call ok said call      21\n",
       "1237  miss call miss call khelat kintu opponent miss...     107\n",
       "1299                   guess useless call someth import      32"
      ]
     },
     "execution_count": 27,
     "metadata": {},
     "output_type": "execute_result"
    }
   ],
   "source": [
    "xval[yval < pred]"
   ]
  },
  {
   "cell_type": "code",
   "execution_count": 28,
   "id": "eab0541c",
   "metadata": {
    "execution": {
     "iopub.execute_input": "2024-08-16T18:01:36.812789Z",
     "iopub.status.busy": "2024-08-16T18:01:36.811930Z",
     "iopub.status.idle": "2024-08-16T18:01:36.959723Z",
     "shell.execute_reply": "2024-08-16T18:01:36.958127Z"
    },
    "papermill": {
     "duration": 0.173151,
     "end_time": "2024-08-16T18:01:36.964610",
     "exception": false,
     "start_time": "2024-08-16T18:01:36.791459",
     "status": "completed"
    },
    "tags": []
   },
   "outputs": [
    {
     "data": {
      "text/plain": [
       "array([[0.12698194, 0.87301806],\n",
       "       [0.1013516 , 0.8986484 ],\n",
       "       [0.15393372, 0.84606628],\n",
       "       [0.19907661, 0.80092339]])"
      ]
     },
     "execution_count": 28,
     "metadata": {},
     "output_type": "execute_result"
    }
   ],
   "source": [
    "lrtf.predict_proba(xval_tf)[[100, 101, 567, 1188]]"
   ]
  },
  {
   "cell_type": "code",
   "execution_count": 29,
   "id": "6daf7a56",
   "metadata": {
    "execution": {
     "iopub.execute_input": "2024-08-16T18:01:37.051389Z",
     "iopub.status.busy": "2024-08-16T18:01:37.050689Z",
     "iopub.status.idle": "2024-08-16T18:01:37.067697Z",
     "shell.execute_reply": "2024-08-16T18:01:37.065989Z"
    },
    "papermill": {
     "duration": 0.066104,
     "end_time": "2024-08-16T18:01:37.072200",
     "exception": false,
     "start_time": "2024-08-16T18:01:37.006096",
     "status": "completed"
    },
    "tags": []
   },
   "outputs": [
    {
     "data": {
      "text/plain": [
       "0.9444381528168584"
      ]
     },
     "execution_count": 29,
     "metadata": {},
     "output_type": "execute_result"
    }
   ],
   "source": [
    "from sklearn.metrics import roc_auc_score\n",
    "roc_auc_score(yval, pred)"
   ]
  },
  {
   "cell_type": "code",
   "execution_count": 30,
   "id": "ccd4646a",
   "metadata": {
    "execution": {
     "iopub.execute_input": "2024-08-16T18:01:37.116364Z",
     "iopub.status.busy": "2024-08-16T18:01:37.115949Z",
     "iopub.status.idle": "2024-08-16T18:01:37.122718Z",
     "shell.execute_reply": "2024-08-16T18:01:37.121041Z"
    },
    "papermill": {
     "duration": 0.032442,
     "end_time": "2024-08-16T18:01:37.126077",
     "exception": false,
     "start_time": "2024-08-16T18:01:37.093635",
     "status": "completed"
    },
    "tags": []
   },
   "outputs": [],
   "source": [
    "# # Naive Bayes\n",
    "# from sklearn.naive_bayes import MultinomialNB\n",
    "# nb = MultinomialNB()\n",
    "\n",
    "# nb.fit(xtrain_tf, ytrain)\n",
    "# pred = nb.predict(xval_tf)\n",
    "# print('----------- TFID -------------------')\n",
    "# print(classification_report(pred, yval))\n",
    "# print('---------------------------------------')\n",
    "# print(np.trunc(confusion_matrix(pred, yval, normalize = 'true')*100))"
   ]
  },
  {
   "cell_type": "markdown",
   "id": "7147f4e3",
   "metadata": {
    "papermill": {
     "duration": 0.022092,
     "end_time": "2024-08-16T18:01:37.168552",
     "exception": false,
     "start_time": "2024-08-16T18:01:37.146460",
     "status": "completed"
    },
    "tags": []
   },
   "source": [
    "It is doing a great job as is. But we dont want it to classify any ham msg as spam. So need to reduce the FP ones."
   ]
  },
  {
   "cell_type": "code",
   "execution_count": null,
   "id": "464a5380",
   "metadata": {
    "papermill": {
     "duration": 0.021212,
     "end_time": "2024-08-16T18:01:37.212324",
     "exception": false,
     "start_time": "2024-08-16T18:01:37.191112",
     "status": "completed"
    },
    "tags": []
   },
   "outputs": [],
   "source": []
  }
 ],
 "metadata": {
  "kaggle": {
   "accelerator": "none",
   "dataSources": [
    {
     "datasetId": 483,
     "sourceId": 982,
     "sourceType": "datasetVersion"
    }
   ],
   "dockerImageVersionId": 30746,
   "isGpuEnabled": false,
   "isInternetEnabled": true,
   "language": "python",
   "sourceType": "notebook"
  },
  "kernelspec": {
   "display_name": "Python 3",
   "language": "python",
   "name": "python3"
  },
  "language_info": {
   "codemirror_mode": {
    "name": "ipython",
    "version": 3
   },
   "file_extension": ".py",
   "mimetype": "text/x-python",
   "name": "python",
   "nbconvert_exporter": "python",
   "pygments_lexer": "ipython3",
   "version": "3.10.13"
  },
  "papermill": {
   "default_parameters": {},
   "duration": 46.841511,
   "end_time": "2024-08-16T18:01:37.959848",
   "environment_variables": {},
   "exception": null,
   "input_path": "__notebook__.ipynb",
   "output_path": "__notebook__.ipynb",
   "parameters": {},
   "start_time": "2024-08-16T18:00:51.118337",
   "version": "2.5.0"
  }
 },
 "nbformat": 4,
 "nbformat_minor": 5
}
